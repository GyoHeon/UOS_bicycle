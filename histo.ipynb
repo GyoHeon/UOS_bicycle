{
 "cells": [
  {
   "cell_type": "code",
   "execution_count": 1,
   "source": [
    "import pandas as pd\r\n",
    "import numpy as np\r\n",
    "import networkx as nx\r\n",
    "import matplotlib.pyplot as plt\r\n",
    "import math"
   ],
   "outputs": [],
   "metadata": {}
  },
  {
   "cell_type": "code",
   "execution_count": 6,
   "source": [
    "'''\r\n",
    "data load\r\n",
    "순서대로\r\n",
    "노드,\r\n",
    "평일, 주말, 평일 6~9, 평일 17~20\r\n",
    "'''\r\n",
    "nodes = pd.read_csv('../data/station(21.01.31).csv')\r\n",
    "data_2_on = np.load('../raw_data/data_2_on.npy', allow_pickle = True)\r\n",
    "data_2_off = np.load('../raw_data/data_2_off.npy', allow_pickle = True)\r\n",
    "data_3_on = np.load('../raw_data/data_2_on.npy', allow_pickle = True)\r\n",
    "data_3_off = np.load('../raw_data/data_2_off.npy', allow_pickle = True)\r\n",
    "data_4_on = np.load('../raw_data/data_2_on.npy', allow_pickle = True)\r\n",
    "data_4_off = np.load('../raw_data/data_2_off.npy', allow_pickle = True)\r\n",
    "data_5_on = np.load('../raw_data/data_2_on.npy', allow_pickle = True)\r\n",
    "data_5_off = np.load('../raw_data/data_2_off.npy', allow_pickle = True)\r\n",
    "data_6_on = np.load('../raw_data/data_2_on.npy', allow_pickle = True)\r\n",
    "data_6_off = np.load('../raw_data/data_2_off.npy', allow_pickle = True)"
   ],
   "outputs": [],
   "metadata": {}
  },
  {
   "cell_type": "code",
   "execution_count": null,
   "source": [],
   "outputs": [],
   "metadata": {}
  }
 ],
 "metadata": {
  "orig_nbformat": 4,
  "language_info": {
   "name": "python",
   "version": "3.8.3",
   "mimetype": "text/x-python",
   "codemirror_mode": {
    "name": "ipython",
    "version": 3
   },
   "pygments_lexer": "ipython3",
   "nbconvert_exporter": "python",
   "file_extension": ".py"
  },
  "kernelspec": {
   "name": "python3",
   "display_name": "Python 3.8.3 64-bit ('base': conda)"
  },
  "interpreter": {
   "hash": "014b59808cf445a1f31851fb1408afebf516839740d067f1702e83d3b9167d10"
  }
 },
 "nbformat": 4,
 "nbformat_minor": 2
}