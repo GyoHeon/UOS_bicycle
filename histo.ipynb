{
 "cells": [
  {
   "cell_type": "code",
   "execution_count": 8,
   "source": [
    "import pandas as pd\r\n",
    "import numpy as np\r\n",
    "import networkx as nx\r\n",
    "import matplotlib.pyplot as plt\r\n",
    "import math\r\n",
    "from datetime import datetime"
   ],
   "outputs": [],
   "metadata": {}
  },
  {
   "cell_type": "markdown",
   "source": [
    "# data load"
   ],
   "metadata": {}
  },
  {
   "cell_type": "code",
   "execution_count": 16,
   "source": [
    "# 노드\r\n",
    "nodes = pd.read_csv('../data/station(21.01.31).csv')\r\n",
    "\r\n",
    "# 달별 데이터\r\n",
    "data_2 = np.load('../raw_data/data_2.npy', allow_pickle = True)\r\n",
    "data_3 = np.load('../raw_data/data_3.npy', allow_pickle = True)\r\n",
    "data_4 = np.load('../raw_data/data_4.npy', allow_pickle = True)\r\n",
    "data_5 = np.load('../raw_data/data_5.npy', allow_pickle = True)\r\n",
    "data_6 = np.load('../raw_data/data_6.npy', allow_pickle = True)\r\n",
    "\r\n",
    "# 출.퇴근 데이터\r\n",
    "data_2_on = np.load('../raw_data/data_2_on.npy', allow_pickle = True)\r\n",
    "data_2_off = np.load('../raw_data/data_2_off.npy', allow_pickle = True)\r\n",
    "data_3_on = np.load('../raw_data/data_2_on.npy', allow_pickle = True)\r\n",
    "data_3_off = np.load('../raw_data/data_2_off.npy', allow_pickle = True)\r\n",
    "data_4_on = np.load('../raw_data/data_2_on.npy', allow_pickle = True)\r\n",
    "data_4_off = np.load('../raw_data/data_2_off.npy', allow_pickle = True)\r\n",
    "data_5_on = np.load('../raw_data/data_2_on.npy', allow_pickle = True)\r\n",
    "data_5_off = np.load('../raw_data/data_2_off.npy', allow_pickle = True)\r\n",
    "data_6_on = np.load('../raw_data/data_2_on.npy', allow_pickle = True)\r\n",
    "data_6_off = np.load('../raw_data/data_2_off.npy', allow_pickle = True)"
   ],
   "outputs": [],
   "metadata": {}
  },
  {
   "cell_type": "code",
   "execution_count": 23,
   "source": [
    "# data 시간별로 분할\r\n",
    "li_2 = []\r\n",
    "for i in data_2:\r\n",
    "    li_2.append(datetime.strptime(i[0][11:], '%H:%M:%S').hour)\r\n",
    "li_3 = []\r\n",
    "for i in data_3:\r\n",
    "    li_3.append(datetime.strptime(i[0][11:], '%H:%M:%S').hour)\r\n",
    "li_4 = []\r\n",
    "for i in data_4:\r\n",
    "    li_4.append(datetime.strptime(i[0][11:], '%H:%M:%S').hour)\r\n",
    "li_5 = []\r\n",
    "for i in data_5:\r\n",
    "    li_5.append(datetime.strptime(i[0][11:], '%H:%M:%S').hour)\r\n",
    "li_6 = []\r\n",
    "for i in data_6:\r\n",
    "    li_6.append(datetime.strptime(i[0][11:], '%H:%M:%S').hour)"
   ],
   "outputs": [],
   "metadata": {}
  },
  {
   "cell_type": "code",
   "execution_count": 55,
   "source": [
    "plt.figure(figsize = (12, 6))\r\n",
    "\r\n",
    "colors = ['#E69F00', '#56B4E9', '#F0E442', '#009E73', '#D55E00']\r\n",
    "\r\n",
    "plt.hist([li_2, li_3, li_4, li_5, li_6], bins = 23, color = colors, \r\n",
    "         label=['February', 'March', 'April', 'May', 'June'])\r\n",
    "\r\n",
    "plt.title('Time table')\r\n",
    "plt.legend()"
   ],
   "outputs": [
    {
     "output_type": "execute_result",
     "data": {
      "text/plain": [
       "<matplotlib.legend.Legend at 0x21384ec5160>"
      ]
     },
     "metadata": {},
     "execution_count": 55
    },
    {
     "output_type": "display_data",
     "data": {
      "image/png": "[encoded data removed]",
      "text/plain": [
       "<Figure size 864x432 with 1 Axes>"
      ]
     },
     "metadata": {
      "needs_background": "light"
     }
    }
   ],
   "metadata": {}
  }
 ],
 "metadata": {
  "orig_nbformat": 4,
  "language_info": {
   "name": "python",
   "version": "3.8.3",
   "mimetype": "text/x-python",
   "codemirror_mode": {
    "name": "ipython",
    "version": 3
   },
   "pygments_lexer": "ipython3",
   "nbconvert_exporter": "python",
   "file_extension": ".py"
  },
  "kernelspec": {
   "name": "python3",
   "display_name": "Python 3.8.3 64-bit ('base': conda)"
  },
  "interpreter": {
   "hash": "014b59808cf445a1f31851fb1408afebf516839740d067f1702e83d3b9167d10"
  }
 },
 "nbformat": 4,
 "nbformat_minor": 2
}