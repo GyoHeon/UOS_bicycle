{
 "metadata": {
  "language_info": {
   "codemirror_mode": {
    "name": "ipython",
    "version": 3
   },
   "file_extension": ".py",
   "mimetype": "text/x-python",
   "name": "python",
   "nbconvert_exporter": "python",
   "pygments_lexer": "ipython3",
   "version": "3.8.3"
  },
  "orig_nbformat": 2,
  "kernelspec": {
   "name": "python383jvsc74a57bd0014b59808cf445a1f31851fb1408afebf516839740d067f1702e83d3b9167d10",
   "display_name": "Python 3.8.3 64-bit ('base': conda)"
  },
  "metadata": {
   "interpreter": {
    "hash": "082aadc5a44cb4c25e94605eead48e386914b87026afb4a900d883a4fe00114c"
   }
  }
 },
 "nbformat": 4,
 "nbformat_minor": 2,
 "cells": [
  {
   "cell_type": "code",
   "execution_count": 1,
   "metadata": {},
   "outputs": [],
   "source": [
    "import pandas as pd\n",
    "import numpy as np\n",
    "import matplotlib.pyplot as plt\n",
    "import datetime"
   ]
  },
  {
   "cell_type": "code",
   "execution_count": 2,
   "metadata": {},
   "outputs": [],
   "source": [
    "# 통근 데이터\n",
    "commute = pd.read_table('출퇴근.txt', sep = ',').T\n",
    "\n",
    "# 통근 데이터 시각화 함수 \n",
    "def commute_1(x):\n",
    "    index = commute.index[3:]\n",
    "    name = commute[x][2]\n",
    "\n",
    "    data = commute[x].values.tolist()[3:]\n",
    "    data = [float(i) for i in data]\n",
    "\n",
    "    barh = plt.barh(index, data, color = 'palegreen', label = 'name')\n",
    "\n",
    "    barh[1].set_color('crimson')\n",
    "    barh[2].set_color('crimson')\n",
    "\n",
    "    plt.title(name)\n",
    "\n",
    "# plot 사이즈 조절\n",
    "plt.figure(figsize = (10, 5))\n",
    "\n",
    "# index는 data 보고 결정\n",
    "commute_1(0)"
   ]
  }
 ]
}