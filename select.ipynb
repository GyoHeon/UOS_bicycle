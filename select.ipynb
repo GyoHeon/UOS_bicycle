{
 "metadata": {
  "language_info": {
   "codemirror_mode": {
    "name": "ipython",
    "version": 3
   },
   "file_extension": ".py",
   "mimetype": "text/x-python",
   "name": "python",
   "nbconvert_exporter": "python",
   "pygments_lexer": "ipython3",
   "version": "3.8.3"
  },
  "orig_nbformat": 2,
  "kernelspec": {
   "name": "python3",
   "display_name": "Python 3.8.3 64-bit ('base': conda)"
  },
  "metadata": {
   "interpreter": {
    "hash": "082aadc5a44cb4c25e94605eead48e386914b87026afb4a900d883a4fe00114c"
   }
  },
  "interpreter": {
   "hash": "014b59808cf445a1f31851fb1408afebf516839740d067f1702e83d3b9167d10"
  }
 },
 "nbformat": 4,
 "nbformat_minor": 2,
 "cells": [
  {
   "cell_type": "code",
   "execution_count": 1,
   "source": [
    "import pandas as pd\r\n",
    "import numpy as np\r\n",
    "from tqdm import tqdm\r\n",
    "from datetime import datetime\r\n",
    "\r\n",
    "# 따릉이 정류소 데이터. 806503개\r\n",
    "station = pd.read_csv('../data/station(21.01.31).csv')\r\n",
    "\r\n",
    "# 계산용 numpy array\r\n",
    "station_array = np.array(station.iloc[:, 0])\r\n",
    "\r\n",
    "# 따릉이 이용 데이터\r\n",
    "# index : [자전거번호, start_time, 대여 대여소번호, 대여 대여소명, 대여거치대, end_time,반납대여소번호,반납대여소명, 반납거치대, using_time, distance]\r\n",
    "use = np.load('../data/data.npz', allow_pickle = True)\r\n",
    "use = use['arr_0']"
   ],
   "outputs": [],
   "metadata": {}
  },
  {
   "cell_type": "markdown",
   "source": [
    "# 트래쉬 데이터 버리기"
   ],
   "metadata": {}
  },
  {
   "cell_type": "code",
   "execution_count": 4,
   "source": [
    "# 출발, 도착 정류소의 위치 좌표가 있는지 True, False 값으로 반환\r\n",
    "start = np.isin(use[:, 2], station_array)\r\n",
    "end = np.isin(use[:, 6], station_array)\r\n",
    "\r\n",
    "# 출발, 도착 정류소 모두 있는 경우 1 반환\r\n",
    "real = start * end\r\n",
    "\r\n",
    "# 출발, 도착 정류소 정보가 모두 있는 데이터 수. 801335개\r\n",
    "sum_real = sum(real)\r\n",
    "\r\n",
    "# 필요없는 데이터 index\r\n",
    "index_f = np.where(real == 0)[0]\r\n",
    "\r\n",
    "# 필요없는 데이터 삭제한 데이터\r\n",
    "real_station = np.delete(use, index_f, 0)\r\n",
    "\r\n",
    "# 데이터 저장\r\n",
    "np.savez('./data/selected_data', real_station)"
   ],
   "outputs": [],
   "metadata": {}
  },
  {
   "cell_type": "markdown",
   "source": [
    "# 주말, 평일 나누기"
   ],
   "metadata": {}
  },
  {
   "cell_type": "code",
   "execution_count": null,
   "source": [
    "# 따릉이 데이터\r\n",
    "use = np.load('./data/selected_data.npz', allow_pickle = True)\r\n",
    "use = use['arr_0']\r\n",
    "\r\n",
    "# 주말 체크 (0~4: 평일, 5~6: 주말)\r\n",
    "def is_weekend(x):\r\n",
    "    if x>4:\r\n",
    "        return 0\r\n",
    "    else:\r\n",
    "        return 1\r\n",
    "\r\n",
    "# 주말, 평일 데이터 나누기\r\n",
    "weekday_list = []\r\n",
    "weekend_list = []\r\n",
    "\r\n",
    "for i in use:\r\n",
    "    if is_weekend(datetime.strptime(i[1][:10], '%Y-%m-%d').weekday()) == True:\r\n",
    "        weekday_list.append(i)\r\n",
    "    else:\r\n",
    "        weekend_list.append(i)\r\n",
    "\r\n",
    "weekday_list = np.array(weekday_list)\r\n",
    "weekend_list = np.array(weekend_list)\r\n",
    "\r\n",
    "# 데이터 저장\r\n",
    "np.savez('./data/weekday_data', weekday_list)\r\n",
    "np.savez('./data/weekend_data', weekend_list)"
   ],
   "outputs": [],
   "metadata": {}
  },
  {
   "cell_type": "markdown",
   "source": [
    "# 출, 퇴근 데이터 평일 데이터에서 나누기"
   ],
   "metadata": {}
  },
  {
   "cell_type": "code",
   "execution_count": null,
   "source": [
    "# 평일 따릉이\r\n",
    "use = np.load('./data/weekday_data.npz', allow_pickle = True)\r\n",
    "use = use['arr_0']\r\n",
    "\r\n",
    "# 출퇴근 시간 함수 (시간은 임의로 3시간 정함)\r\n",
    "def gotowork(x):\r\n",
    "    if x == 7 or x == 8 or x == 9:\r\n",
    "        return 1\r\n",
    "    elif x == 17 or x == 18 or x == 19:\r\n",
    "        return 2\r\n",
    "\r\n",
    "# 출근, 퇴근 데이터 나누기\r\n",
    "on_list = []\r\n",
    "off_list = []\r\n",
    "\r\n",
    "for i in use:\r\n",
    "    if gotowork(datetime.strptime(i[1][11:], '%H:%M').hour) == 1:\r\n",
    "        on_list.append(i)\r\n",
    "    elif gotowork(datetime.strptime(i[1][11:], '%H:%M').hour) == 2:\r\n",
    "        off_list.append(i)\r\n",
    "\r\n",
    "on_list = np.array(on_list)\r\n",
    "off_list = np.array(off_list)\r\n",
    "\r\n",
    "# 데이터 저장\r\n",
    "np.savez('./data/on_data', on_list)         #94811개\r\n",
    "np.savez('./data/off_data', off_list)       #137635개"
   ],
   "outputs": [],
   "metadata": {}
  }
 ]
}