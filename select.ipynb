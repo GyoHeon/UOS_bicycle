{
 "metadata": {
  "language_info": {
   "codemirror_mode": {
    "name": "ipython",
    "version": 3
   },
   "file_extension": ".py",
   "mimetype": "text/x-python",
   "name": "python",
   "nbconvert_exporter": "python",
   "pygments_lexer": "ipython3",
   "version": "3.8.5"
  },
  "orig_nbformat": 2,
  "kernelspec": {
   "name": "python385jvsc74a57bd0014b59808cf445a1f31851fb1408afebf516839740d067f1702e83d3b9167d10",
   "display_name": "Python 3.8.5 64-bit ('base': conda)"
  },
  "metadata": {
   "interpreter": {
    "hash": "082aadc5a44cb4c25e94605eead48e386914b87026afb4a900d883a4fe00114c"
   }
  }
 },
 "nbformat": 4,
 "nbformat_minor": 2,
 "cells": [
  {
   "cell_type": "code",
   "execution_count": 1,
   "metadata": {},
   "outputs": [],
   "source": [
    "import pandas as pd\n",
    "import numpy as np\n",
    "from tqdm import tqdm"
   ]
  },
  {
   "cell_type": "code",
   "execution_count": 2,
   "metadata": {},
   "outputs": [],
   "source": [
    "# 따릉이 정류소 데이터. 806503개\n",
    "station = pd.read_csv('station(21.01.31).csv')\n",
    "\n",
    "# 계산용 numpy array\n",
    "station_array = np.array(station.iloc[:, 0])\n",
    "\n",
    "# 따릉이 이용 데이터\n",
    "# index : [자전거번호, start_time, 대여 대여소번호, 대여 대여소명, 대여거치대, end_time,반납대여소번호,반납대여소명, 반납거치대, using_time, distance]\n",
    "use = np.load('data.npz', allow_pickle = True)\n",
    "use = use['arr_0']"
   ]
  },
  {
   "cell_type": "code",
   "execution_count": 3,
   "metadata": {},
   "outputs": [
    {
     "output_type": "execute_result",
     "data": {
      "text/plain": [
       "array([668, 668, 668, ..., 2299, 175, 117], dtype=object)"
      ]
     },
     "metadata": {},
     "execution_count": 3
    }
   ],
   "source": [
    "# 출발 정류소\n",
    "use[:, 2]\n",
    "\n",
    "# 도착 정류소\n",
    "use[:, 6]"
   ]
  },
  {
   "cell_type": "code",
   "execution_count": 64,
   "metadata": {},
   "outputs": [],
   "source": [
    "# 출발, 도착 정류소의 위치 좌표가 있는지 True, False 값으로 반환\n",
    "start = np.isin(use[:, 2], station_array)\n",
    "end = np.isin(use[:, 6], station_array)\n",
    "\n",
    "# 출발, 도착 정류소 모두 있는 경우 1 반환\n",
    "real = start * end"
   ]
  },
  {
   "cell_type": "code",
   "execution_count": 88,
   "metadata": {},
   "outputs": [],
   "source": [
    "# 출발, 도착 정류소 정보가 모두 있는 데이터 수. 801335개\n",
    "sum_real = sum(real)\n",
    "\n",
    "# 필요없는 데이터 index\n",
    "index_f = np.where(real == 0)[0]"
   ]
  },
  {
   "cell_type": "code",
   "execution_count": 91,
   "metadata": {},
   "outputs": [],
   "source": [
    "# 필요없는 데이터 삭제한 데이터\n",
    "real_station = np.delete(use, index_f, 0)"
   ]
  },
  {
   "cell_type": "code",
   "execution_count": null,
   "metadata": {},
   "outputs": [],
   "source": [
    "np.savez('./selected_data',real_station)"
   ]
  }
 ]
}