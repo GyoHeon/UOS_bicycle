{
 "metadata": {
  "language_info": {
   "codemirror_mode": {
    "name": "ipython",
    "version": 3
   },
   "file_extension": ".py",
   "mimetype": "text/x-python",
   "name": "python",
   "nbconvert_exporter": "python",
   "pygments_lexer": "ipython3",
   "version": "3.8.3"
  },
  "orig_nbformat": 4,
  "kernelspec": {
   "name": "python3",
   "display_name": "Python 3.8.3 64-bit ('base': conda)"
  },
  "interpreter": {
   "hash": "014b59808cf445a1f31851fb1408afebf516839740d067f1702e83d3b9167d10"
  }
 },
 "nbformat": 4,
 "nbformat_minor": 2,
 "cells": [
  {
   "cell_type": "code",
   "execution_count": 42,
   "metadata": {},
   "outputs": [],
   "source": [
    "import pandas as pd\n",
    "import numpy as np\n",
    "import networkx as nx\n",
    "\n",
    "# data 불러오기\n",
    "use = np.load('./data/on_data.npz', allow_pickle = True)\n",
    "use = use['arr_0']\n",
    "\n",
    "# 시점, 종점 빼고 다 제거\n",
    "use = np.delete(use, [0,1,3,4,5,7,8,9,10], 1)\n",
    "\n",
    "# pandas dataframe으로 바꾸기\n",
    "df1 = pd.DataFrame(use, columns=['start', 'end'])\n",
    "\n",
    "# pandas dataframe으로 바꾸기\n",
    "df1 = pd.DataFrame(use, columns=['start', 'end'])\n",
    "\n",
    "# int로 통일\n",
    "df1['start'] = df1['start'].astype(int)\n",
    "df1['end'] = df1['end'].astype(int)\n",
    "\n",
    "# group 화\n",
    "df2 = df1.groupby(['start', 'end'])\n",
    "\n",
    "# group 화\n",
    "df2 = df1.groupby(['start', 'end'])\n",
    "\n",
    "# 완성\n",
    "df3 = df2.size().reset_index(name = 'sum')\n",
    "\n",
    "# save\n",
    "df3.to_csv('./data/group_on.csv')"
   ]
  }
 ]
}