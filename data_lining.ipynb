{
 "metadata": {
  "language_info": {
   "codemirror_mode": {
    "name": "ipython",
    "version": 3
   },
   "file_extension": ".py",
   "mimetype": "text/x-python",
   "name": "python",
   "nbconvert_exporter": "python",
   "pygments_lexer": "ipython3",
   "version": "3.8.3"
  },
  "orig_nbformat": 4,
  "kernelspec": {
   "name": "python3",
   "display_name": "Python 3.8.3 64-bit ('base': conda)"
  },
  "interpreter": {
   "hash": "014b59808cf445a1f31851fb1408afebf516839740d067f1702e83d3b9167d10"
  }
 },
 "nbformat": 4,
 "nbformat_minor": 2,
 "cells": [
  {
   "cell_type": "code",
   "execution_count": 1,
   "metadata": {},
   "outputs": [
    {
     "output_type": "stream",
     "name": "stderr",
     "text": [
      "<frozen importlib._bootstrap>:219: RuntimeWarning: numpy.ufunc size changed, may indicate binary incompatibility. Expected 192 from C header, got 216 from PyObject\n",
      "<frozen importlib._bootstrap>:219: RuntimeWarning: numpy.ufunc size changed, may indicate binary incompatibility. Expected 192 from C header, got 216 from PyObject\n",
      "<frozen importlib._bootstrap>:219: RuntimeWarning: numpy.ufunc size changed, may indicate binary incompatibility. Expected 192 from C header, got 216 from PyObject\n"
     ]
    }
   ],
   "source": [
    "import pandas as pd\n",
    "import numpy as np\n",
    "import networkx as nx\n",
    "\n",
    "# data 불러오기\n",
    "use_weekday = np.load('./data/weekday_data.npz', allow_pickle = True)\n",
    "use_weekday = use_weekday['arr_0']\n",
    "\n",
    "use_weekend = np.load('./data/weekend_data.npz', allow_pickle = True)\n",
    "use_weekend = use_weekend['arr_0']\n",
    "\n",
    "use_on = np.load('./data/on_data.npz', allow_pickle = True)\n",
    "use_on = use_on['arr_0']\n",
    "\n",
    "use_off = np.load('./data/off_data.npz', allow_pickle = True)\n",
    "use_off = use_off['arr_0']\n",
    "\n",
    "# 시점, 종점 빼고 다 제거\n",
    "use_weekday = np.delete(use_weekday, [0,1,3,4,5,7,8,9,10], 1)\n",
    "use_weekend = np.delete(use_weekend, [0,1,3,4,5,7,8,9,10], 1)\n",
    "use_on = np.delete(use_on, [0,1,3,4,5,7,8,9,10], 1)\n",
    "use_off = np.delete(use_off, [0,1,3,4,5,7,8,9,10], 1)\n",
    "\n",
    "# pandas dataframe으로 바꾸기\n",
    "df1 = pd.DataFrame(use_weekday, columns=['start', 'end'])\n",
    "df2 = pd.DataFrame(use_weekend, columns=['start', 'end'])\n",
    "df3 = pd.DataFrame(use_on, columns=['start', 'end'])\n",
    "df4 = pd.DataFrame(use_off, columns=['start', 'end'])\n",
    "\n",
    "# int로 통일\n",
    "df1['start'] = df1['start'].astype(int)\n",
    "df1['end'] = df1['end'].astype(int)\n",
    "df2['start'] = df2['start'].astype(int)\n",
    "df2['end'] = df2['end'].astype(int)\n",
    "df3['start'] = df3['start'].astype(int)\n",
    "df3['end'] = df3['end'].astype(int)\n",
    "df4['start'] = df4['start'].astype(int)\n",
    "df4['end'] = df4['end'].astype(int)\n",
    "\n",
    "# group 화\n",
    "df1_1 = df1.groupby(['start', 'end'])\n",
    "df2_1 = df2.groupby(['start', 'end'])\n",
    "df3_1 = df3.groupby(['start', 'end'])\n",
    "df4_1 = df4.groupby(['start', 'end'])\n",
    "\n",
    "# 완성\n",
    "df1_2 = df1_1.size().reset_index(name = 'number')\n",
    "df2_2 = df2_1.size().reset_index(name = 'number')\n",
    "df3_2 = df3_1.size().reset_index(name = 'number')\n",
    "df4_2 = df4_1.size().reset_index(name = 'number')\n",
    "\n",
    "# save\n",
    "df1_2.to_csv('./data/group_weekday.csv')\n",
    "df2_2.to_csv('./data/group_weekend.csv')\n",
    "df3_2.to_csv('./data/group_on.csv')\n",
    "df4_2.to_csv('./data/group_off.csv')"
   ]
  }
 ]
}