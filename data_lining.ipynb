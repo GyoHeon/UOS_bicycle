{
 "metadata": {
  "language_info": {
   "codemirror_mode": {
    "name": "ipython",
    "version": 3
   },
   "file_extension": ".py",
   "mimetype": "text/x-python",
   "name": "python",
   "nbconvert_exporter": "python",
   "pygments_lexer": "ipython3",
   "version": "3.8.3"
  },
  "orig_nbformat": 4,
  "kernelspec": {
   "name": "python3",
   "display_name": "Python 3.8.3 64-bit ('base': conda)"
  },
  "interpreter": {
   "hash": "014b59808cf445a1f31851fb1408afebf516839740d067f1702e83d3b9167d10"
  }
 },
 "nbformat": 4,
 "nbformat_minor": 2,
 "cells": [
  {
   "cell_type": "code",
   "execution_count": 2,
   "metadata": {},
   "outputs": [],
   "source": [
    "import pandas as pd\n",
    "import numpy as np\n",
    "import networkx as nx\n",
    "\n",
    "use = np.load('./data/on_data.npz', allow_pickle = True)\n",
    "use = use['arr_0']\n",
    "\n",
    "use = np.delete(use, [0,1,3,4,5,7,8,9,10], 1)"
   ]
  },
  {
   "cell_type": "code",
   "execution_count": 5,
   "metadata": {},
   "outputs": [],
   "source": [
    "df1 = pd.DataFrame(use, columns=['start', 'end'])"
   ]
  },
  {
   "cell_type": "code",
   "execution_count": 6,
   "metadata": {},
   "outputs": [
    {
     "output_type": "execute_result",
     "data": {
      "text/plain": [
       "      start   end\n",
       "0       101   101\n",
       "1       101   104\n",
       "2       101   104\n",
       "3       101   104\n",
       "4       101   106\n",
       "...     ...   ...\n",
       "94806  4785   454\n",
       "94807  4791  4791\n",
       "94808  4791   331\n",
       "94809  4791  4791\n",
       "94810  4791   471\n",
       "\n",
       "[94811 rows x 2 columns]"
      ],
      "text/html": "<div>\n<style scoped>\n    .dataframe tbody tr th:only-of-type {\n        vertical-align: middle;\n    }\n\n    .dataframe tbody tr th {\n        vertical-align: top;\n    }\n\n    .dataframe thead th {\n        text-align: right;\n    }\n</style>\n<table border=\"1\" class=\"dataframe\">\n  <thead>\n    <tr style=\"text-align: right;\">\n      <th></th>\n      <th>start</th>\n      <th>end</th>\n    </tr>\n  </thead>\n  <tbody>\n    <tr>\n      <th>0</th>\n      <td>101</td>\n      <td>101</td>\n    </tr>\n    <tr>\n      <th>1</th>\n      <td>101</td>\n      <td>104</td>\n    </tr>\n    <tr>\n      <th>2</th>\n      <td>101</td>\n      <td>104</td>\n    </tr>\n    <tr>\n      <th>3</th>\n      <td>101</td>\n      <td>104</td>\n    </tr>\n    <tr>\n      <th>4</th>\n      <td>101</td>\n      <td>106</td>\n    </tr>\n    <tr>\n      <th>...</th>\n      <td>...</td>\n      <td>...</td>\n    </tr>\n    <tr>\n      <th>94806</th>\n      <td>4785</td>\n      <td>454</td>\n    </tr>\n    <tr>\n      <th>94807</th>\n      <td>4791</td>\n      <td>4791</td>\n    </tr>\n    <tr>\n      <th>94808</th>\n      <td>4791</td>\n      <td>331</td>\n    </tr>\n    <tr>\n      <th>94809</th>\n      <td>4791</td>\n      <td>4791</td>\n    </tr>\n    <tr>\n      <th>94810</th>\n      <td>4791</td>\n      <td>471</td>\n    </tr>\n  </tbody>\n</table>\n<p>94811 rows × 2 columns</p>\n</div>"
     },
     "metadata": {},
     "execution_count": 6
    }
   ],
   "source": [
    "df1"
   ]
  }
 ]
}