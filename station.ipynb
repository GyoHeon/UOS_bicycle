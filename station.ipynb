{
 "metadata": {
  "language_info": {
   "codemirror_mode": {
    "name": "ipython",
    "version": 3
   },
   "file_extension": ".py",
   "mimetype": "text/x-python",
   "name": "python",
   "nbconvert_exporter": "python",
   "pygments_lexer": "ipython3",
   "version": "3.8.5"
  },
  "orig_nbformat": 2,
  "kernelspec": {
   "name": "python385jvsc74a57bd0014b59808cf445a1f31851fb1408afebf516839740d067f1702e83d3b9167d10",
   "display_name": "Python 3.8.5 64-bit ('base': conda)"
  }
 },
 "nbformat": 4,
 "nbformat_minor": 2,
 "cells": [
  {
   "cell_type": "code",
   "execution_count": 2,
   "metadata": {},
   "outputs": [],
   "source": [
    "import pandas as pd\n",
    "import numpy as np\n",
    "import matplotlib.pyplot as plt\n",
    "import datetime\n",
    "import geopandas as gpd"
   ]
  },
  {
   "cell_type": "code",
   "execution_count": 4,
   "metadata": {},
   "outputs": [],
   "source": [
    "station = pd.read_csv('station(21.01.31).csv')"
   ]
  },
  {
   "cell_type": "code",
   "execution_count": 5,
   "metadata": {},
   "outputs": [
    {
     "output_type": "execute_result",
     "data": {
      "text/plain": [
       "      station number              ������(�뿩��)��   ��ġ��  \\\n",
       "0                301              �溹�ÿ� 7���ⱸ ��   ���α�   \n",
       "1                302              �溹�ÿ� 4���ⱸ ��   ���α�   \n",
       "2                303            ��ȭ���� 1���ⱸ ��   ���α�   \n",
       "3                304            ��ȭ���� 2���ⱸ ��   ���α�   \n",
       "4                305                   ���α�û ��   ���α�   \n",
       "...              ...                         ...     ...   \n",
       "2149            1085         ���̾� �ֺ���(������)  ������   \n",
       "2150            1086         ���̾� �ֺ���(��õ���)  ������   \n",
       "2151            1088               ǳ����Ÿ�(����)  ������   \n",
       "2152            1089  ���� ���̾���������Ʈ(201��)  ������   \n",
       "2153            1090            ���ϵ��� 2���ⱸ ��  ������   \n",
       "\n",
       "                                ���ּ�   latitude   longitude    ��ġ\\n�ñ�  \\\n",
       "0      ����Ư���� ���α� ������ ����130  37.575794  126.971451  2015-10-07   \n",
       "1      ����Ư���� ���α� ������ ����130  37.575947  126.974060  2015-10-07   \n",
       "2     ����Ư���� ���α� ������� ����189  37.571770  126.974663  2015-10-07   \n",
       "3     ����Ư���� ���α� ������� ����172  37.572113  126.977577  2021-01-26   \n",
       "4            ����Ư���� ���α� ����� 43  37.572582  126.978355  2015-10-07   \n",
       "...                               ...        ...         ...         ...   \n",
       "2149                       ������1650  37.554569  127.145874  2020-01-13   \n",
       "2150                       ������1650  37.550598  127.145454  2020-01-10   \n",
       "2151                      ������451-3  37.528122  127.119522  2020-01-14   \n",
       "2152                       ������ 675  37.560600  127.146698  2020-01-13   \n",
       "2153                       ������ 333  37.556789  127.166145  2020-01-13   \n",
       "\n",
       "       LCD    QR  LCD + QR �\\n���  \n",
       "0     16.0   NaN        16     LCD  \n",
       "1     12.0   NaN        12     LCD  \n",
       "2      8.0   NaN         8     LCD  \n",
       "3      NaN   7.0         7      QR  \n",
       "4     16.0   NaN        16     LCD  \n",
       "...    ...   ...       ...     ...  \n",
       "2149   NaN  20.0        20      QR  \n",
       "2150   NaN  10.0        10      QR  \n",
       "2151   NaN  12.0        12      QR  \n",
       "2152   NaN  10.0        10      QR  \n",
       "2153   NaN  10.0        10      QR  \n",
       "\n",
       "[2154 rows x 11 columns]"
      ],
      "text/html": "<div>\n<style scoped>\n    .dataframe tbody tr th:only-of-type {\n        vertical-align: middle;\n    }\n\n    .dataframe tbody tr th {\n        vertical-align: top;\n    }\n\n    .dataframe thead th {\n        text-align: right;\n    }\n</style>\n<table border=\"1\" class=\"dataframe\">\n  <thead>\n    <tr style=\"text-align: right;\">\n      <th></th>\n      <th>station number</th>\n      <th>������(�뿩��)��</th>\n      <th>��ġ��</th>\n      <th>���ּ�</th>\n      <th>latitude</th>\n      <th>longitude</th>\n      <th>��ġ\\n�ñ�</th>\n      <th>LCD</th>\n      <th>QR</th>\n      <th>LCD + QR</th>\n      <th>�\\n���</th>\n    </tr>\n  </thead>\n  <tbody>\n    <tr>\n      <th>0</th>\n      <td>301</td>\n      <td>�溹�ÿ� 7���ⱸ ��</td>\n      <td>���α�</td>\n      <td>����Ư���� ���α� ������ ����130</td>\n      <td>37.575794</td>\n      <td>126.971451</td>\n      <td>2015-10-07</td>\n      <td>16.0</td>\n      <td>NaN</td>\n      <td>16</td>\n      <td>LCD</td>\n    </tr>\n    <tr>\n      <th>1</th>\n      <td>302</td>\n      <td>�溹�ÿ� 4���ⱸ ��</td>\n      <td>���α�</td>\n      <td>����Ư���� ���α� ������ ����130</td>\n      <td>37.575947</td>\n      <td>126.974060</td>\n      <td>2015-10-07</td>\n      <td>12.0</td>\n      <td>NaN</td>\n      <td>12</td>\n      <td>LCD</td>\n    </tr>\n    <tr>\n      <th>2</th>\n      <td>303</td>\n      <td>��ȭ���� 1���ⱸ ��</td>\n      <td>���α�</td>\n      <td>����Ư���� ���α� ������� ����189</td>\n      <td>37.571770</td>\n      <td>126.974663</td>\n      <td>2015-10-07</td>\n      <td>8.0</td>\n      <td>NaN</td>\n      <td>8</td>\n      <td>LCD</td>\n    </tr>\n    <tr>\n      <th>3</th>\n      <td>304</td>\n      <td>��ȭ���� 2���ⱸ ��</td>\n      <td>���α�</td>\n      <td>����Ư���� ���α� ������� ����172</td>\n      <td>37.572113</td>\n      <td>126.977577</td>\n      <td>2021-01-26</td>\n      <td>NaN</td>\n      <td>7.0</td>\n      <td>7</td>\n      <td>QR</td>\n    </tr>\n    <tr>\n      <th>4</th>\n      <td>305</td>\n      <td>���α�û ��</td>\n      <td>���α�</td>\n      <td>����Ư���� ���α� ����� 43</td>\n      <td>37.572582</td>\n      <td>126.978355</td>\n      <td>2015-10-07</td>\n      <td>16.0</td>\n      <td>NaN</td>\n      <td>16</td>\n      <td>LCD</td>\n    </tr>\n    <tr>\n      <th>...</th>\n      <td>...</td>\n      <td>...</td>\n      <td>...</td>\n      <td>...</td>\n      <td>...</td>\n      <td>...</td>\n      <td>...</td>\n      <td>...</td>\n      <td>...</td>\n      <td>...</td>\n      <td>...</td>\n    </tr>\n    <tr>\n      <th>2149</th>\n      <td>1085</td>\n      <td>���̾� �ֺ���(������)</td>\n      <td>������</td>\n      <td>������1650</td>\n      <td>37.554569</td>\n      <td>127.145874</td>\n      <td>2020-01-13</td>\n      <td>NaN</td>\n      <td>20.0</td>\n      <td>20</td>\n      <td>QR</td>\n    </tr>\n    <tr>\n      <th>2150</th>\n      <td>1086</td>\n      <td>���̾� �ֺ���(��õ���)</td>\n      <td>������</td>\n      <td>������1650</td>\n      <td>37.550598</td>\n      <td>127.145454</td>\n      <td>2020-01-10</td>\n      <td>NaN</td>\n      <td>10.0</td>\n      <td>10</td>\n      <td>QR</td>\n    </tr>\n    <tr>\n      <th>2151</th>\n      <td>1088</td>\n      <td>ǳ����Ÿ�(����)</td>\n      <td>������</td>\n      <td>������451-3</td>\n      <td>37.528122</td>\n      <td>127.119522</td>\n      <td>2020-01-14</td>\n      <td>NaN</td>\n      <td>12.0</td>\n      <td>12</td>\n      <td>QR</td>\n    </tr>\n    <tr>\n      <th>2152</th>\n      <td>1089</td>\n      <td>���� ���̾���������Ʈ(201��)</td>\n      <td>������</td>\n      <td>������ 675</td>\n      <td>37.560600</td>\n      <td>127.146698</td>\n      <td>2020-01-13</td>\n      <td>NaN</td>\n      <td>10.0</td>\n      <td>10</td>\n      <td>QR</td>\n    </tr>\n    <tr>\n      <th>2153</th>\n      <td>1090</td>\n      <td>���ϵ��� 2���ⱸ ��</td>\n      <td>������</td>\n      <td>������ 333</td>\n      <td>37.556789</td>\n      <td>127.166145</td>\n      <td>2020-01-13</td>\n      <td>NaN</td>\n      <td>10.0</td>\n      <td>10</td>\n      <td>QR</td>\n    </tr>\n  </tbody>\n</table>\n<p>2154 rows × 11 columns</p>\n</div>"
     },
     "metadata": {},
     "execution_count": 5
    }
   ],
   "source": [
    "station"
   ]
  }
 ]
}