{
 "cells": [
  {
   "cell_type": "markdown",
   "metadata": {},
   "source": [
    "분석을 진행중인 과정을 올렸습니다.  \n",
    "분석이 완료된 데이터들은 plot파일에 올려서 시각화를 완료했습니다."
   ]
  },
  {
   "cell_type": "code",
   "execution_count": 1,
   "metadata": {},
   "outputs": [],
   "source": [
    "import pandas as pd\n",
    "import numpy as np\n",
    "import networkx as nx\n",
    "import matplotlib.pyplot as plt\n",
    "import math"
   ]
  },
  {
   "cell_type": "code",
   "execution_count": 2,
   "metadata": {},
   "outputs": [],
   "source": [
    "'''\n",
    "data load\n",
    "순서대로\n",
    "노드(2153),\n",
    "평일, 주말, 평일 6~9, 평일 17~20\n",
    "'''\n",
    "nodes = pd.read_csv('../data/station(21.01.31).csv')\n",
    "links = np.load('../raw_data/data_2_weekday.npy', allow_pickle = True)\n",
    "links_on = np.load('../raw_data/data_2_on.npy', allow_pickle = 1)\n",
    "links_off = np.load('../raw_data/data_2_off.npy', allow_pickle = 1)\n",
    "\n",
    "links = np.array([links[:,1],links[:,3]]).T\n",
    "links1 = np.array([links_on[:,1],links_on[:,3]]).T\n",
    "links2 = np.array([links_off[:,1],links_off[:,3]]).T"
   ]
  },
  {
   "cell_type": "markdown",
   "metadata": {},
   "source": [
    "# function"
   ]
  },
  {
   "cell_type": "code",
   "execution_count": 125,
   "metadata": {},
   "outputs": [],
   "source": [
    "# n 보다 큰 것만 생각하기\n",
    "def new_links(data, n):\n",
    "    data = data[data['number'] > n]\n",
    "    return data\n",
    "\n",
    "# 시작, 끝, count 만 나타내는 리스트 만들기\n",
    "def simple_list(data):\n",
    "    a = np.array([data[:,0],data[:,1]]).T.astype(int)\n",
    "\n",
    "    item = np.unique(a, return_counts=True, axis = 0)[0]\n",
    "    count = np.unique(a, return_counts=True, axis = 0)[1]\n",
    "\n",
    "    return np.column_stack((item, count))\n",
    "\n",
    "# 좌표로만 나타낸 실제 거리\n",
    "def haversine(coord1, coord2):\n",
    "    R = 6372800  # Earth radius in meters\n",
    "    lat1, lon1 = location[coord1]\n",
    "    lat2, lon2 = location[coord2]\n",
    "    \n",
    "    phi1, phi2 = math.radians(lat1), math.radians(lat2)\n",
    "    dphi       = math.radians(lat2 - lat1)\n",
    "    dlambda    = math.radians(lon2 - lon1)\n",
    "    \n",
    "    a = math.sin(dphi/2)**2 + \\\n",
    "        math.cos(phi1)*math.cos(phi2)*math.sin(dlambda/2)**2\n",
    "    \n",
    "    return 2*R*math.atan2(math.sqrt(a), math.sqrt(1 - a))"
   ]
  },
  {
   "cell_type": "markdown",
   "metadata": {},
   "source": [
    "# 2월달 데이터를 사용한 예제"
   ]
  },
  {
   "cell_type": "code",
   "execution_count": 11,
   "metadata": {},
   "outputs": [],
   "source": [
    "# simplify links\n",
    "s_links = simple_list(links)\n",
    "s_links1 = simple_list(links1)\n",
    "s_links2 = simple_list(links2)\n",
    "\n",
    "# all network\n",
    "G = nx.DiGraph()\n",
    "G.add_weighted_edges_from(s_links)\n",
    "\n",
    "# on network\n",
    "G1 = nx.DiGraph()\n",
    "G1.add_weighted_edges_from(s_links1)\n",
    "\n",
    "#off network\n",
    "G2 = nx.DiGraph()\n",
    "G2.add_weighted_edges_from(s_links2)"
   ]
  },
  {
   "cell_type": "markdown",
   "metadata": {},
   "source": [
    "# strength"
   ]
  },
  {
   "cell_type": "code",
   "execution_count": 137,
   "metadata": {},
   "outputs": [],
   "source": [
    "# add in, out weight to nodes\n",
    "for u in G.nodes:\n",
    "    G.nodes[u]['in'] = 0\n",
    "    G.nodes[u]['out'] = 0\n",
    "for u in G1.nodes:\n",
    "    G1.nodes[u]['in'] = 0\n",
    "    G1.nodes[u]['out'] = 0\n",
    "for u in G2.nodes:\n",
    "    G2.nodes[u]['in'] = 0\n",
    "    G2.nodes[u]['out'] = 0\n",
    "\n",
    "# calculate weight to nodes\n",
    "for u, v, weight in G.edges(data=\"weight\"):\n",
    "    G.nodes[u]['in'] += weight\n",
    "    G.nodes[v]['out'] += weight\n",
    "for u, v, weight in G1.edges(data=\"weight\"):\n",
    "    G1.nodes[u]['in'] += weight\n",
    "    G1.nodes[v]['out'] += weight\n",
    "for u, v, weight in G2.edges(data=\"weight\"):\n",
    "    G2.nodes[u]['in'] += weight\n",
    "    G2.nodes[v]['out'] += weight\n",
    "\n",
    "# node weight save. node 순서대로\n",
    "all_in_weight = []\n",
    "all_out_weight = []\n",
    "for i in G.nodes:\n",
    "    if G.nodes[i]['in'] > 0:\n",
    "        all_in_weight.append(G.nodes[i]['in'])\n",
    "    else:\n",
    "        all_in_weight.append(0)\n",
    "    if G.nodes[i]['out'] > 0:\n",
    "        all_out_weight.append(G.nodes[i]['out'])\n",
    "    else:\n",
    "        all_out_weight.append(0)\n",
    "\n",
    "on_in_weight = []\n",
    "on_out_weight = []\n",
    "for i in G1.nodes:\n",
    "    if G1.nodes[i]['in'] > 0:\n",
    "        on_in_weight.append(G1.nodes[i]['in'])\n",
    "    else:\n",
    "        on_in_weight.append(0)\n",
    "    if G1.nodes[i]['out'] > 0:\n",
    "        on_out_weight.append(G1.nodes[i]['out'])\n",
    "    else:\n",
    "        on_out_weight.append(0)\n",
    "\n",
    "off_in_weight = []\n",
    "off_out_weight = []\n",
    "for i in G2.nodes:\n",
    "    if G2.nodes[i]['in'] > 0:\n",
    "        off_in_weight.append(G2.nodes[i]['in'])\n",
    "    else:\n",
    "        off_in_weight.append(0)\n",
    "    if G2.nodes[i]['out'] > 0:\n",
    "        off_out_weight.append(G2.nodes[i]['out'])\n",
    "    else:\n",
    "        off_out_weight.append(0)"
   ]
  },
  {
   "cell_type": "code",
   "execution_count": 149,
   "metadata": {},
   "outputs": [
    {
     "data": {
      "image/png": "[encoded data removed]",
      "text/plain": [
       "<Figure size 792x792 with 3 Axes>"
      ]
     },
     "metadata": {
      "needs_background": "light"
     },
     "output_type": "display_data"
    }
   ],
   "source": [
    "# 노드 웨이트 히스토그램 \n",
    "bins = np.logspace(0, 3, 21)\n",
    "\n",
    "# Three subplots sharing both x/y axes\n",
    "f, (ax1, ax2, ax3) = plt.subplots(3, sharex=True, sharey=True, figsize=(11, 11))\n",
    "ax1.hist([d for d in all_out_weight], bins=bins, color = 'dodgerblue')\n",
    "ax2.hist([d for d in on_out_weight], bins=bins, color = 'orange')\n",
    "ax3.hist([d for d in off_out_weight], bins=bins, color = 'deeppink')\n",
    "\n",
    "# Fine-tune figure; make subplots close to each other and hide x ticks for\n",
    "# all but bottom plot.\n",
    "f.subplots_adjust(hspace=0)\n",
    "plt.setp([a.get_xticklabels() for a in f.axes[:-1]], visible=False)\n",
    "\n",
    "import matplotlib.ticker as ticker\n",
    "ax1.set_xscale(\"log\")\n",
    "\n",
    "plt.show()"
   ]
  }
 ],
 "metadata": {
  "interpreter": {
   "hash": "2b2ef0ced6158af2e394324a057accd68681802aee33865d5dd32934d26225d9"
  },
  "kernelspec": {
   "display_name": "Python 3.8.8 64-bit ('base': conda)",
   "name": "python3"
  },
  "language_info": {
   "codemirror_mode": {
    "name": "ipython",
    "version": 3
   },
   "file_extension": ".py",
   "mimetype": "text/x-python",
   "name": "python",
   "nbconvert_exporter": "python",
   "pygments_lexer": "ipython3",
   "version": "3.8.8"
  }
 },
 "nbformat": 4,
 "nbformat_minor": 2
}
