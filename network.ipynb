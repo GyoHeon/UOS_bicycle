{
 "metadata": {
  "language_info": {
   "codemirror_mode": {
    "name": "ipython",
    "version": 3
   },
   "file_extension": ".py",
   "mimetype": "text/x-python",
   "name": "python",
   "nbconvert_exporter": "python",
   "pygments_lexer": "ipython3",
   "version": "3.8.3"
  },
  "orig_nbformat": 4,
  "kernelspec": {
   "name": "python3",
   "display_name": "Python 3.8.3 64-bit ('base': conda)"
  },
  "interpreter": {
   "hash": "014b59808cf445a1f31851fb1408afebf516839740d067f1702e83d3b9167d10"
  }
 },
 "nbformat": 4,
 "nbformat_minor": 2,
 "cells": [
  {
   "cell_type": "code",
   "execution_count": 1,
   "metadata": {},
   "outputs": [],
   "source": [
    "import folium\n",
    "import pandas as pd\n",
    "import numpy as np\n",
    "import networkx as nx\n",
    "\n",
    "nodes = pd.read_csv('./data/bike_node(21.01.31).csv')\n",
    "links = pd.read_csv('./data/group_on.csv')"
   ]
  },
  {
   "cell_type": "code",
   "execution_count": 2,
   "metadata": {},
   "outputs": [
    {
     "output_type": "execute_result",
     "data": {
      "text/plain": [
       "      Unnamed: 0    id          node_name   latitude   longitude\n",
       "0              0   301        경복궁역 7번출구 앞  37.575794  126.971451\n",
       "1              1   302        경복궁역 4번출구 뒤  37.575947  126.974060\n",
       "2              2   303        광화문역 1번출구 앞  37.571770  126.974663\n",
       "3              3   304        광화문역 2번출구 앞  37.572113  126.977577\n",
       "4              4   305             종로구청 옆  37.572582  126.978355\n",
       "...          ...   ...                ...        ...         ...\n",
       "2149        2149  1085       래미안 솔베뉴(고덕로)  37.554569  127.145874\n",
       "2150        2150  1086      래미안 솔베뉴(구천면로)  37.550598  127.145454\n",
       "2151        2151  1088          풍납사거리(강동)  37.528122  127.119522\n",
       "2152        2152  1089  고덕 래미안힐스테이트(201동)  37.560600  127.146698\n",
       "2153        2153  1090        상일동역 2번출구 앞  37.556789  127.166145\n",
       "\n",
       "[2154 rows x 5 columns]"
      ],
      "text/html": "<div>\n<style scoped>\n    .dataframe tbody tr th:only-of-type {\n        vertical-align: middle;\n    }\n\n    .dataframe tbody tr th {\n        vertical-align: top;\n    }\n\n    .dataframe thead th {\n        text-align: right;\n    }\n</style>\n<table border=\"1\" class=\"dataframe\">\n  <thead>\n    <tr style=\"text-align: right;\">\n      <th></th>\n      <th>Unnamed: 0</th>\n      <th>id</th>\n      <th>node_name</th>\n      <th>latitude</th>\n      <th>longitude</th>\n    </tr>\n  </thead>\n  <tbody>\n    <tr>\n      <th>0</th>\n      <td>0</td>\n      <td>301</td>\n      <td>경복궁역 7번출구 앞</td>\n      <td>37.575794</td>\n      <td>126.971451</td>\n    </tr>\n    <tr>\n      <th>1</th>\n      <td>1</td>\n      <td>302</td>\n      <td>경복궁역 4번출구 뒤</td>\n      <td>37.575947</td>\n      <td>126.974060</td>\n    </tr>\n    <tr>\n      <th>2</th>\n      <td>2</td>\n      <td>303</td>\n      <td>광화문역 1번출구 앞</td>\n      <td>37.571770</td>\n      <td>126.974663</td>\n    </tr>\n    <tr>\n      <th>3</th>\n      <td>3</td>\n      <td>304</td>\n      <td>광화문역 2번출구 앞</td>\n      <td>37.572113</td>\n      <td>126.977577</td>\n    </tr>\n    <tr>\n      <th>4</th>\n      <td>4</td>\n      <td>305</td>\n      <td>종로구청 옆</td>\n      <td>37.572582</td>\n      <td>126.978355</td>\n    </tr>\n    <tr>\n      <th>...</th>\n      <td>...</td>\n      <td>...</td>\n      <td>...</td>\n      <td>...</td>\n      <td>...</td>\n    </tr>\n    <tr>\n      <th>2149</th>\n      <td>2149</td>\n      <td>1085</td>\n      <td>래미안 솔베뉴(고덕로)</td>\n      <td>37.554569</td>\n      <td>127.145874</td>\n    </tr>\n    <tr>\n      <th>2150</th>\n      <td>2150</td>\n      <td>1086</td>\n      <td>래미안 솔베뉴(구천면로)</td>\n      <td>37.550598</td>\n      <td>127.145454</td>\n    </tr>\n    <tr>\n      <th>2151</th>\n      <td>2151</td>\n      <td>1088</td>\n      <td>풍납사거리(강동)</td>\n      <td>37.528122</td>\n      <td>127.119522</td>\n    </tr>\n    <tr>\n      <th>2152</th>\n      <td>2152</td>\n      <td>1089</td>\n      <td>고덕 래미안힐스테이트(201동)</td>\n      <td>37.560600</td>\n      <td>127.146698</td>\n    </tr>\n    <tr>\n      <th>2153</th>\n      <td>2153</td>\n      <td>1090</td>\n      <td>상일동역 2번출구 앞</td>\n      <td>37.556789</td>\n      <td>127.166145</td>\n    </tr>\n  </tbody>\n</table>\n<p>2154 rows × 5 columns</p>\n</div>"
     },
     "metadata": {},
     "execution_count": 2
    }
   ],
   "source": [
    "nodes"
   ]
  }
 ]
}