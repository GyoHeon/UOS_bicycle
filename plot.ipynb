{
 "cells": [
  {
   "cell_type": "markdown",
   "source": [
    "데이터는 2, 3, 4, 5, 6월의 데이터를 다룸.  \n",
    "네트워크에서 분석을 끝내고 가치가 있다고 생각한 데이터만 모아놓았음.  \n",
    "모든 데이터는 시각화를 해서 보기 쉽게 해놓았음.  \n",
    "계산이 오래 걸리지 않는 데이터는 2~6월을 모두 계산하고  \n",
    "계산이 오래 걸리는 경우 2월 달의 데이터를 대표로 계산하였음.  \n",
    "달을 바꾸려면 단순히 2를 원하는 달로 바꾸면 됌."
   ],
   "metadata": {}
  },
  {
   "cell_type": "code",
   "execution_count": 2,
   "source": [
    "import pandas as pd\n",
    "import numpy as np\n",
    "import networkx as nx\n",
    "import matplotlib.pyplot as plt\n",
    "import math\n",
    "from datetime import datetime"
   ],
   "outputs": [],
   "metadata": {}
  },
  {
   "cell_type": "markdown",
   "source": [
    "# function"
   ],
   "metadata": {}
  },
  {
   "cell_type": "code",
   "execution_count": 3,
   "source": [
    "# 시작, 끝, count 만 나타내는 리스트 만들기\n",
    "def simple_list(data):\n",
    "    a = np.array([data[:,0],data[:,1]]).T.astype(int)\n",
    "\n",
    "    item = np.unique(a, return_counts=True, axis = 0)[0]\n",
    "    count = np.unique(a, return_counts=True, axis = 0)[1]\n",
    "\n",
    "    return np.column_stack((item, count))"
   ],
   "outputs": [],
   "metadata": {}
  },
  {
   "cell_type": "markdown",
   "source": [
    "# data load"
   ],
   "metadata": {}
  },
  {
   "cell_type": "code",
   "execution_count": 4,
   "source": [
    "# 노드\n",
    "nodes = pd.read_csv('../data/station(21.01.31).csv')\n",
    "\n",
    "# 달별 데이터\n",
    "data_2_all = np.load('../raw_data/data_2.npy', allow_pickle = True)\n",
    "data_3_all = np.load('../raw_data/data_3.npy', allow_pickle = True)\n",
    "data_4_all = np.load('../raw_data/data_4.npy', allow_pickle = True)\n",
    "data_5_all = np.load('../raw_data/data_5.npy', allow_pickle = True)\n",
    "data_6_all = np.load('../raw_data/data_6.npy', allow_pickle = True)\n",
    "\n",
    "# 출.퇴근 데이터\n",
    "data_2_on = np.load('../raw_data/data_2_on.npy', allow_pickle = True)\n",
    "data_2_off = np.load('../raw_data/data_2_off.npy', allow_pickle = True)\n",
    "data_3_on = np.load('../raw_data/data_2_on.npy', allow_pickle = True)\n",
    "data_3_off = np.load('../raw_data/data_2_off.npy', allow_pickle = True)\n",
    "data_4_on = np.load('../raw_data/data_2_on.npy', allow_pickle = True)\n",
    "data_4_off = np.load('../raw_data/data_2_off.npy', allow_pickle = True)\n",
    "data_5_on = np.load('../raw_data/data_2_on.npy', allow_pickle = True)\n",
    "data_5_off = np.load('../raw_data/data_2_off.npy', allow_pickle = True)\n",
    "data_6_on = np.load('../raw_data/data_2_on.npy', allow_pickle = True)\n",
    "data_6_off = np.load('../raw_data/data_2_off.npy', allow_pickle = True)"
   ],
   "outputs": [],
   "metadata": {}
  },
  {
   "cell_type": "markdown",
   "source": [
    "# Make network"
   ],
   "metadata": {}
  },
  {
   "cell_type": "code",
   "execution_count": null,
   "source": [
    "# extract only links\n",
    "data_2_all_links = np.array([data_2_all[:,1], data_2_all[:,3]]).T\n",
    "data_2_on_links = np.array([data_2_on[:,1], data_2_on[:,3]]).T\n",
    "data_2_off_links = np.array([data_2_off[:,1], data_2_off[:,3]]).T\n",
    "data_3_all_links = np.array([data_3_all[:,1], data_3_all[:,3]]).T\n",
    "data_3_on_links = np.array([data_3_on[:,1], data_3_on[:,3]]).T\n",
    "data_3_off_links = np.array([data_3_off[:,1], data_3_off[:,3]]).T\n",
    "data_4_all_links = np.array([data_4_all[:,1], data_4_all[:,3]]).T\n",
    "data_4_on_links = np.array([data_4_on[:,1], data_4_on[:,3]]).T\n",
    "data_4_off_links = np.array([data_4_off[:,1], data_4_off[:,3]]).T\n",
    "data_5_all_links = np.array([data_5_all[:,1], data_5_all[:,3]]).T\n",
    "data_5_on_links = np.array([data_5_on[:,1], data_5_on[:,3]]).T\n",
    "data_5_off_links = np.array([data_5_off[:,1], data_5_off[:,3]]).T\n",
    "data_6_all_links = np.array([data_6_all[:,1], data_6_all[:,3]]).T\n",
    "data_6_on_links = np.array([data_6_on[:,1], data_6_on[:,3]]).T\n",
    "data_6_off_links = np.array([data_6_off[:,1], data_6_off[:,3]]).T\n",
    "\n",
    "# simplify links\n",
    "data_2_all_links = simple_list(data_2_all_links)\n",
    "data_2_on_links = simple_list(data_2_on_links)\n",
    "data_2_off_links = simple_list(data_2_off_links)\n",
    "data_3_all_links = simple_list(data_3_all_links)\n",
    "data_3_on_links = simple_list(data_3_on_links)\n",
    "data_3_off_links = simple_list(data_3_off_links)\n",
    "data_4_all_links = simple_list(data_4_all_links)\n",
    "data_4_on_links = simple_list(data_4_on_links)\n",
    "data_4_off_links = simple_list(data_4_off_links)\n",
    "data_5_all_links = simple_list(data_5_all_links)\n",
    "data_5_on_links = simple_list(data_5_on_links)\n",
    "data_5_off_links = simple_list(data_5_off_links)\n",
    "data_6_all_links = simple_list(data_6_all_links)\n",
    "data_6_on_links = simple_list(data_6_on_links)\n",
    "data_6_off_links = simple_list(data_6_off_links)"
   ],
   "outputs": [],
   "metadata": {}
  },
  {
   "cell_type": "code",
   "execution_count": 5,
   "source": [
    "# 데이터 네트워크 생성\n",
    "G_2_all = nx.DiGraph()\n",
    "G_2_all.add_weighted_edges_from(data_2_all_links)\n",
    "G_2_on = nx.DiGraph()\n",
    "G_2_on.add_weighted_edges_from(data_2_on_links)\n",
    "G_2_off = nx.DiGraph()\n",
    "G_2_off.add_weighted_edges_from(data_2_off_links)\n",
    "G_3_all = nx.DiGraph()\n",
    "G_3_all.add_weighted_edges_from(data_3_all_links)\n",
    "G_3_on = nx.DiGraph()\n",
    "G_3_on.add_weighted_edges_from(data_3_on_links)\n",
    "G_3_off = nx.DiGraph()\n",
    "G_3_off.add_weighted_edges_from(data_3_off_links)\n",
    "G_4_all = nx.DiGraph()\n",
    "G_4_all.add_weighted_edges_from(data_4_all_links)\n",
    "G_4_on = nx.DiGraph()\n",
    "G_4_on.add_weighted_edges_from(data_4_on_links)\n",
    "G_4_off = nx.DiGraph()\n",
    "G_4_off.add_weighted_edges_from(data_4_off_links)\n",
    "G_5_all = nx.DiGraph()\n",
    "G_5_all.add_weighted_edges_from(data_5_all_links)\n",
    "G_5_on = nx.DiGraph()\n",
    "G_5_on.add_weighted_edges_from(data_5_on_links)\n",
    "G_5_off = nx.DiGraph()\n",
    "G_5_off.add_weighted_edges_from(data_5_off_links)\n",
    "G_6_all = nx.DiGraph()\n",
    "G_6_all.add_weighted_edges_from(data_6_all_links)\n",
    "G_6_on = nx.DiGraph()\n",
    "G_6_on.add_weighted_edges_from(data_6_on_links)\n",
    "G_6_off = nx.DiGraph()\n",
    "G_6_off.add_weighted_edges_from(data_6_off_links)"
   ],
   "outputs": [],
   "metadata": {}
  },
  {
   "cell_type": "markdown",
   "source": [
    "# 달별 시간대 이동량"
   ],
   "metadata": {}
  },
  {
   "cell_type": "code",
   "execution_count": 21,
   "source": [
    "# data 시간별로 분할\n",
    "li_2 = []\n",
    "for i in data_2_all:\n",
    "    li_2.append(datetime.strptime(i[0][11:], '%H:%M:%S').hour)\n",
    "li_3 = []\n",
    "for i in data_3_all:\n",
    "    li_3.append(datetime.strptime(i[0][11:], '%H:%M:%S').hour)\n",
    "li_4 = []\n",
    "for i in data_4_all:\n",
    "    li_4.append(datetime.strptime(i[0][11:], '%H:%M:%S').hour)\n",
    "li_5 = []\n",
    "for i in data_5_all:\n",
    "    li_5.append(datetime.strptime(i[0][11:], '%H:%M:%S').hour)\n",
    "li_6 = []\n",
    "for i in data_6_all:\n",
    "    li_6.append(datetime.strptime(i[0][11:], '%H:%M:%S').hour)"
   ],
   "outputs": [],
   "metadata": {}
  },
  {
   "cell_type": "code",
   "execution_count": 124,
   "source": [
    "plt.figure(figsize = (12, 5))\n",
    "\n",
    "# histogram\n",
    "colors = ['#E69F00', '#56B4E9', '#F0E442', '#009E73', '#D55E00']\n",
    "plt.hist([li_2, li_3, li_4, li_5, li_6], bins = 24, color = colors, \n",
    "         label=['February', 'March', 'April', 'May', 'June'])\n",
    "\n",
    "# average\n",
    "bins = np.linspace(0.5, 22.5, 24)\n",
    "all_li = li_2 + li_3 + li_4 + li_5 + li_6\n",
    "all_dict = {i:0 for i in range(0, 24)}\n",
    "for i in all_li:\n",
    "    all_dict[i] += 1/6\n",
    "plt.plot(bins, all_dict.values(), linestyle=(0, (5, 1)), color = 'magenta', label='average')\n",
    "\n",
    "plt.title('Time table')\n",
    "plt.legend()"
   ],
   "outputs": [
    {
     "output_type": "execute_result",
     "data": {
      "text/plain": [
       "<matplotlib.legend.Legend at 0x7fe5781a1f40>"
      ]
     },
     "metadata": {},
     "execution_count": 124
    },
    {
     "output_type": "display_data",
     "data": {
      "image/png": "[encoded data removed]",
      "text/plain": [
       "<Figure size 864x360 with 1 Axes>"
      ]
     },
     "metadata": {
      "needs_background": "light"
     }
    }
   ],
   "metadata": {}
  },
  {
   "cell_type": "markdown",
   "source": [
    "# in, out degree histogram"
   ],
   "metadata": {}
  },
  {
   "cell_type": "code",
   "execution_count": 126,
   "source": [
    "'''\n",
    "in degree, out degree possible\n",
    "9,10,11 줄의 in_degree를 out_degree로 바꾸면 out을 볼 수 있다.\n",
    "'''\n",
    "bins = np.linspace(0,250,51)\n",
    "\n",
    "# Three subplots sharing both x/y axes\n",
    "f, (ax1, ax2, ax3) = plt.subplots(3, sharex=True, sharey=True, figsize=(8, 8))\n",
    "ax1.hist([d for n, d in G_6_all.in_degree()], bins=bins, color = 'dodgerblue')\n",
    "ax2.hist([d for n, d in G_6_on.in_degree()], bins=bins, color = 'orange')\n",
    "ax3.hist([d for n, d in G_6_off.in_degree()], bins=bins, color = 'deeppink')\n",
    "\n",
    "# Fine-tune figure; make subplots close to each other and hide x ticks for\n",
    "# all but bottom plot.\n",
    "f.subplots_adjust(hspace=0)\n",
    "plt.setp([a.get_xticklabels() for a in f.axes[:-1]], visible=False)\n",
    "\n",
    "plt.show()"
   ],
   "outputs": [
    {
     "output_type": "error",
     "ename": "TypeError",
     "evalue": "'Text' object is not callable",
     "traceback": [
      "\u001b[0;31m---------------------------------------------------------------------------\u001b[0m",
      "\u001b[0;31mTypeError\u001b[0m                                 Traceback (most recent call last)",
      "\u001b[0;32m<ipython-input-126-48e070856030>\u001b[0m in \u001b[0;36m<module>\u001b[0;34m\u001b[0m\n\u001b[1;32m     16\u001b[0m \u001b[0mplt\u001b[0m\u001b[0;34m.\u001b[0m\u001b[0msetp\u001b[0m\u001b[0;34m(\u001b[0m\u001b[0;34m[\u001b[0m\u001b[0ma\u001b[0m\u001b[0;34m.\u001b[0m\u001b[0mget_xticklabels\u001b[0m\u001b[0;34m(\u001b[0m\u001b[0;34m)\u001b[0m \u001b[0;32mfor\u001b[0m \u001b[0ma\u001b[0m \u001b[0;32min\u001b[0m \u001b[0mf\u001b[0m\u001b[0;34m.\u001b[0m\u001b[0maxes\u001b[0m\u001b[0;34m[\u001b[0m\u001b[0;34m:\u001b[0m\u001b[0;34m-\u001b[0m\u001b[0;36m1\u001b[0m\u001b[0;34m]\u001b[0m\u001b[0;34m]\u001b[0m\u001b[0;34m,\u001b[0m \u001b[0mvisible\u001b[0m\u001b[0;34m=\u001b[0m\u001b[0;32mFalse\u001b[0m\u001b[0;34m)\u001b[0m\u001b[0;34m\u001b[0m\u001b[0;34m\u001b[0m\u001b[0m\n\u001b[1;32m     17\u001b[0m \u001b[0;34m\u001b[0m\u001b[0m\n\u001b[0;32m---> 18\u001b[0;31m \u001b[0max1\u001b[0m\u001b[0;34m.\u001b[0m\u001b[0mtitle\u001b[0m\u001b[0;34m(\u001b[0m\u001b[0;34m'degree'\u001b[0m\u001b[0;34m)\u001b[0m\u001b[0;34m\u001b[0m\u001b[0;34m\u001b[0m\u001b[0m\n\u001b[0m\u001b[1;32m     19\u001b[0m \u001b[0mplt\u001b[0m\u001b[0;34m.\u001b[0m\u001b[0mshow\u001b[0m\u001b[0;34m(\u001b[0m\u001b[0;34m)\u001b[0m\u001b[0;34m\u001b[0m\u001b[0;34m\u001b[0m\u001b[0m\n",
      "\u001b[0;31mTypeError\u001b[0m: 'Text' object is not callable"
     ]
    },
    {
     "output_type": "display_data",
     "data": {
      "image/png": "[encoded data removed]",
      "text/plain": [
       "<Figure size 576x576 with 3 Axes>"
      ]
     },
     "metadata": {
      "needs_background": "light"
     }
    }
   ],
   "metadata": {}
  },
  {
   "cell_type": "markdown",
   "source": [
    "# shortest path"
   ],
   "metadata": {}
  },
  {
   "cell_type": "code",
   "execution_count": 6,
   "source": [
    "''' \n",
    "calculate shortest path\n",
    "숫자에 원하는 달을 넣으면 원하는 달의 값을 구함\n",
    "계산 과정이 길어서 대표적으로 2월달을 넣었음\n",
    "'''\n",
    "short_2_on = nx.shortest_path(G_2_on)\n",
    "short_2_off = nx.shortest_path(G_2_off)"
   ],
   "outputs": [],
   "metadata": {}
  },
  {
   "cell_type": "code",
   "execution_count": 15,
   "source": [
    "# path length list\n",
    "shortest_path_2_on = []\n",
    "shortest_path_2_off = []\n",
    "for i in short_2_on:\n",
    "    for j in short_2_on[i]:\n",
    "        try:\n",
    "            shortest_path_2_on.append(len(short_2_on[i][j]))\n",
    "        except:\n",
    "            pass\n",
    "\n",
    "for i in short_2_off:\n",
    "    for j in short_2_off[i]:\n",
    "        try:\n",
    "            shortest_path_2_off.append(len(short_2_off[i][j]))\n",
    "        except:\n",
    "            pass"
   ],
   "outputs": [],
   "metadata": {}
  },
  {
   "cell_type": "code",
   "execution_count": 31,
   "source": [
    "# gaussian fitting\n",
    "mu_2_on = np.average(shortest_path_2_on)\n",
    "sigma_2_on = np.std(shortest_path_2_on)\n",
    "mu_2_off = np.average(shortest_path_2_off)\n",
    "sigma_2_off = np.std(shortest_path_2_off)\n",
    "\n",
    "con_bins = np.linspace(0, 10, 100)\n",
    "\n",
    "y_1 = ((1 / (np.sqrt(2 * np.pi) * sigma_2_on)) * np.exp(-0.5 * \n",
    "       (1 / sigma_2_on * (con_bins - mu_2_on))**2))\n",
    "y_2 = ((1 / (np.sqrt(2 * np.pi) * sigma_2_off)) * np.exp(-0.5 * \n",
    "       (1 / sigma_2_off * (con_bins - mu_2_off))**2))\n",
    "\n",
    "# shortest path histogram\n",
    "plt.figure(figsize = (10, 4))\n",
    "\n",
    "plt.hist([shortest_path_2_on, shortest_path_2_off], \n",
    "          bins = [0,1,2,3,4,5,6,7,8,9,10,11,12], label=['On', 'Off'])\n",
    "\n",
    "plt.plot(con_bins+0.25, y_1*4100000, '--')\n",
    "plt.plot(con_bins+0.75, y_2*4500000, '--')\n",
    "\n",
    "plt.title('Shortest path')\n",
    "plt.legend()\n",
    "plt.show()"
   ],
   "outputs": [
    {
     "output_type": "display_data",
     "data": {
      "image/png": "[encoded data removed]",
      "text/plain": [
       "<Figure size 720x288 with 1 Axes>"
      ]
     },
     "metadata": {
      "needs_background": "light"
     }
    }
   ],
   "metadata": {}
  },
  {
   "cell_type": "code",
   "execution_count": null,
   "source": [],
   "outputs": [],
   "metadata": {}
  }
 ],
 "metadata": {
  "orig_nbformat": 4,
  "language_info": {
   "name": "python",
   "version": "3.8.8",
   "mimetype": "text/x-python",
   "codemirror_mode": {
    "name": "ipython",
    "version": 3
   },
   "pygments_lexer": "ipython3",
   "nbconvert_exporter": "python",
   "file_extension": ".py"
  },
  "kernelspec": {
   "name": "python3",
   "display_name": "Python 3.8.8 64-bit ('base': conda)"
  },
  "interpreter": {
   "hash": "2b2ef0ced6158af2e394324a057accd68681802aee33865d5dd32934d26225d9"
  }
 },
 "nbformat": 4,
 "nbformat_minor": 2
}