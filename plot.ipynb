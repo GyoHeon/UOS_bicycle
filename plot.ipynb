{
 "metadata": {
  "language_info": {
   "codemirror_mode": {
    "name": "ipython",
    "version": 3
   },
   "file_extension": ".py",
   "mimetype": "text/x-python",
   "name": "python",
   "nbconvert_exporter": "python",
   "pygments_lexer": "ipython3",
   "version": "3.8.3"
  },
  "orig_nbformat": 4,
  "kernelspec": {
   "name": "python3",
   "display_name": "Python 3.8.3 64-bit ('base': conda)"
  },
  "interpreter": {
   "hash": "014b59808cf445a1f31851fb1408afebf516839740d067f1702e83d3b9167d10"
  }
 },
 "nbformat": 4,
 "nbformat_minor": 2,
 "cells": [
  {
   "cell_type": "code",
   "execution_count": 1,
   "metadata": {},
   "outputs": [],
   "source": [
    "import pandas as pd\n",
    "import numpy as np\n",
    "import matplotlib.pyplot as plt\n",
    "import datetime\n",
    "#import geopandas as gpd\n",
    "import folium"
   ]
  },
  {
   "cell_type": "code",
   "execution_count": 11,
   "metadata": {},
   "outputs": [],
   "source": [
    "# 따릉이 정류소 데이터\n",
    "station = pd.read_csv('./data/station(21.01.31).csv', encoding = 'UTF8')\n",
    "\n",
    "# 따릉이 이용 데이터\n",
    "# colmun : [자전거번호, start_time, 대여 대여소번호, 대여 대여소명, 대여거치대, end_time,반납대여소번호,반납대여소명, 반납거치대, using_time, distance]\n",
    "# 필요없는 column 버릴까 생각중\n",
    "# 801335 개 데이터 \n",
    "use = np.load('./data/selected_data.npz', allow_pickle = True)\n",
    "use = use['arr_0']\n",
    "\n",
    "# 평일\n",
    "use_weekday = np.load('./data/weekday_data.npz', allow_pickle = True)\n",
    "use_weekday = use_weekday['arr_0']\n",
    "\n",
    "# 주말\n",
    "use_weekend = np.load('./data/weekend_data.npz', allow_pickle = True)\n",
    "use_weekend = use_weekend['arr_0']\n",
    "\n",
    "# 출근\n",
    "use_on = np.load('./data/on_data.npz', allow_pickle = True)\n",
    "use_on = use_on['arr_0']\n",
    "\n",
    "# 퇴근\n",
    "use_off = np.load('./data/off_data.npz', allow_pickle = True)\n",
    "use_off = use_off['arr_0']\n",
    "\n",
    "# 인덱스 없애기\n",
    "station = station.set_index('station number')\n",
    "\n",
    "# 화살표 그리기 함수\n",
    "def follow(start, end):\n",
    "    sx = station.loc[start, 'longitude']\n",
    "    sy = station.loc[start, 'latitude']\n",
    "    ex = station.loc[end, 'longitude'] - sx\n",
    "    ey = station.loc[end, 'latitude'] - sy\n",
    "\n",
    "    return sx, sy, ex, ey"
   ]
  },
  {
   "source": [
    "# 용량 때문에 마크다운으로 저장해놨음.  \n",
    " 풀고 돌리면 잘 돌아감\n",
    "\n",
    "## 모든 데이터는 30000개만 돌리게 설정해놨음"
   ],
   "cell_type": "markdown",
   "metadata": {}
  },
  {
   "source": [
    "# plt 정류소 단순 위치\n",
    "plt.figure(figsize = (11, 10))\n",
    "plt.plot(station.iloc[:, 4], station.iloc[:, 3], 'o', markersize = 4)"
   ],
   "cell_type": "markdown",
   "metadata": {}
  },
  {
   "source": [
    "# 전체 데이터\n",
    "plt.figure(figsize = (11, 10))\n",
    "plt.plot(station.iloc[:, 4], station.iloc[:, 3], 'o', markersize = 2)\n",
    "\n",
    "for start, end in zip(use[:30000, 2], use[:30000, 6]):\n",
    "    x1, y1, x2, y2 = follow(start, end)\n",
    "\n",
    "    plt.arrow(x1, y1, x2, y2, color = 'r', width = 0.0001,\\\n",
    "              head_width = 0.002, length_includes_head = True, alpha = 0.1)"
   ],
   "cell_type": "markdown",
   "metadata": {}
  },
  {
   "source": [
    "# 출근 데이터\n",
    "plt.figure(figsize = (11, 10))\n",
    "plt.plot(station.iloc[:, 4], station.iloc[:, 3], 'o', markersize = 2)\n",
    "\n",
    "for start, end in zip(use_weekday[:30000, 2], use_weekday[:30000, 6]):\n",
    "    x1, y1, x2, y2 = follow(start, end)\n",
    "\n",
    "    plt.arrow(x1, y1, x2, y2, color = 'r', width = 0.0001,\\\n",
    "              head_width = 0.002, length_includes_head = True, alpha = 0.1)"
   ],
   "cell_type": "markdown",
   "metadata": {}
  },
  {
   "source": [
    "# 퇴근 데이터\n",
    "plt.figure(figsize = (11, 10))\n",
    "plt.plot(station.iloc[:, 4], station.iloc[:, 3], 'o', markersize = 2)\n",
    "\n",
    "for start, end in zip(use_weekend[:30000, 2], use_weekend[:30000, 6]):\n",
    "    x1, y1, x2, y2 = follow(start, end)\n",
    "\n",
    "    plt.arrow(x1, y1, x2, y2, color = 'r', width = 0.0001,\\\n",
    "              head_width = 0.002, length_includes_head = True, alpha = 0.1)"
   ],
   "cell_type": "markdown",
   "metadata": {}
  },
  {
   "source": [
    "# 출근\n",
    "plt.figure(figsize = (11, 10))\n",
    "plt.plot(station.iloc[:, 4], station.iloc[:, 3], 'o', markersize = 2)\n",
    "\n",
    "for start, end in zip(use_on[:30000, 2], use_on[:30000, 6]):\n",
    "    x1, y1, x2, y2 = follow(start, end)\n",
    "\n",
    "    plt.arrow(x1, y1, x2, y2, color = 'r', width = 0.0001,\\\n",
    "              head_width = 0.002, length_includes_head = True, alpha = 0.1)"
   ],
   "cell_type": "markdown",
   "metadata": {}
  },
  {
   "source": [
    "# 퇴근\n",
    "plt.figure(figsize = (11, 10))\n",
    "plt.plot(station.iloc[:, 4], station.iloc[:, 3], 'o', markersize = 2)\n",
    "\n",
    "for start, end in zip(use_off[:30000, 2], use_off[:30000, 6]):\n",
    "    x1, y1, x2, y2 = follow(start, end)\n",
    "\n",
    "    plt.arrow(x1, y1, x2, y2, color = 'r', width = 0.0001,\\\n",
    "              head_width = 0.002, length_includes_head = True, alpha = 0.1)"
   ],
   "cell_type": "markdown",
   "metadata": {}
  }
 ]
}