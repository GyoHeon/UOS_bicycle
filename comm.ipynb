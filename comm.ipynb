{
 "metadata": {
  "language_info": {
   "codemirror_mode": {
    "name": "ipython",
    "version": 3
   },
   "file_extension": ".py",
   "mimetype": "text/x-python",
   "name": "python",
   "nbconvert_exporter": "python",
   "pygments_lexer": "ipython3",
   "version": "3.8.3"
  },
  "orig_nbformat": 4,
  "kernelspec": {
   "name": "python3",
   "display_name": "Python 3.8.3 64-bit ('base': conda)"
  },
  "interpreter": {
   "hash": "014b59808cf445a1f31851fb1408afebf516839740d067f1702e83d3b9167d10"
  }
 },
 "nbformat": 4,
 "nbformat_minor": 2,
 "cells": [
  {
   "cell_type": "code",
   "execution_count": 3,
   "metadata": {},
   "outputs": [],
   "source": [
    "import pandas as pd\n",
    "import numpy as np\n",
    "import networkx as nx\n",
    "from datetime import datetime\n",
    "import matplotlib.pyplot as plt\n",
    "\n",
    "# 따릉이 데이터\n",
    "use = np.load('./data/selected_data.npz', allow_pickle = True)\n",
    "use = use['arr_0']\n",
    "\n",
    "#정류소 데이터\n",
    "station = pd.read_csv('./data/station(21.01.31).csv', encoding = 'UTF8')\n",
    "station = station.set_index('station number')\n",
    "\n",
    "# 화살표 그리기 함수\n",
    "def follow(start, end):\n",
    "    sx = station.loc[start, 'longitude']\n",
    "    sy = station.loc[start, 'latitude']\n",
    "    ex = station.loc[end, 'longitude'] - sx\n",
    "    ey = station.loc[end, 'latitude'] - sy\n",
    "\n",
    "    return sx, sy, ex, ey\n",
    "\n",
    "# 주말 체크 (0~4: 평일, 5~6: 주말)\n",
    "def is_weekend(x):\n",
    "    if x>4:\n",
    "        return 0\n",
    "    else:\n",
    "        return 1\n",
    "\n",
    "# 주말, 평일 데이터 나누기\n",
    "weekday_list = []\n",
    "weekend_list = []\n",
    "\n",
    "for i in use:\n",
    "    if is_weekend(datetime.strptime(i[1][:10], '%Y-%m-%d').weekday()) == True:\n",
    "        weekday_list.append(i)\n",
    "    else:\n",
    "        weekend_list.append(i)\n",
    "\n",
    "weekday_list = np.array(weekday_list)\n",
    "weekend_list = np.array(weekend_list)"
   ]
  }
 ]
}