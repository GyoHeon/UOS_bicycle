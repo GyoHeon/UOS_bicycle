{
 "cells": [
  {
   "cell_type": "markdown",
   "metadata": {},
   "source": [
    "# 저장기능은 제거했음.\n",
    "2~6월달의 로우 데이터를  \n",
    "시간에 따라 분류하거나 자전거 번호등의 사용하지 않는 데이터를 제거하였음."
   ]
  },
  {
   "cell_type": "code",
   "execution_count": 2,
   "metadata": {},
   "outputs": [],
   "source": [
    "import pandas as pd\n",
    "import numpy as np\n",
    "from tqdm import tqdm\n",
    "from datetime import datetime"
   ]
  },
  {
   "cell_type": "markdown",
   "metadata": {},
   "source": [
    "# Data 정리해서 npy로 저장"
   ]
  },
  {
   "cell_type": "code",
   "execution_count": 66,
   "metadata": {},
   "outputs": [],
   "source": [
    "# station data load\n",
    "station = pd.read_csv('../data/station(21.01.31).csv')\n",
    "\n",
    "# 계산용 numpy array\n",
    "station_array = np.array(station.iloc[:, 0])\n",
    "\n",
    "# use data load\n",
    "data_2 = pd.read_csv('../raw_data/2021.02.csv', sep = ',', encoding = 'cp949')\n",
    "data_3 = pd.read_csv('../raw_data/2021.03.csv', sep = ',', encoding = 'cp949')\n",
    "data_4 = pd.read_csv('../raw_data/2021.04.csv', sep = ',', encoding = 'cp949')\n",
    "data_5 = pd.read_csv('../raw_data/2021.05.csv', sep = ',', encoding = 'cp949')\n",
    "data_6 = pd.read_csv('../raw_data/2021.06.csv', sep = ',', encoding = 'cp949')"
   ]
  },
  {
   "cell_type": "markdown",
   "metadata": {},
   "source": [
    "# 밑에서 부터는 np.array 데이터를 사용하였음."
   ]
  },
  {
   "cell_type": "code",
   "execution_count": 67,
   "metadata": {},
   "outputs": [],
   "source": [
    "# 사용하지 않는 column 제거\n",
    "data_2 = data_2.drop(columns=['자전거번호', '대여 대여소명', '대여거치대',\n",
    "                    '반납대여소명', '반납거치대'], axis=1)\n",
    "data_3 = data_3.drop(columns=['자전거번호', '대여 대여소명', '대여거치대',\n",
    "                    '반납대여소명', '반납거치대'], axis=1)\n",
    "data_4 = data_4.drop(columns=['자전거번호', '대여 대여소명', '대여거치대',\n",
    "                    '반납대여소명', '반납거치대'], axis=1)\n",
    "data_5 = data_5.drop(columns=['자전거번호', '대여 대여소명', '대여거치대',\n",
    "                    '반납대여소명', '반납거치대'], axis=1)\n",
    "data_6 = data_6.drop(columns=['자전거번호', '대여 대여소명', '대여거치대',\n",
    "                    '반납대여소명', '반납거치대'], axis=1)\n",
    "\n",
    "# datafram to numpy array\n",
    "data_2 = data_2.to_numpy()\n",
    "data_3 = data_3.to_numpy()\n",
    "data_4 = data_4.to_numpy()\n",
    "data_5 = data_5.to_numpy()\n",
    "data_6 = data_6.to_numpy()"
   ]
  },
  {
   "cell_type": "markdown",
   "metadata": {},
   "source": [
    "# 가지고 있는 node 외에 다른 node를 표시하는 데이터는 제거하였음.  \n",
    "제거되는 데이터의 수가 많지만 추가로 node의 정보를 확인할 수는 없었음."
   ]
  },
  {
   "cell_type": "code",
   "execution_count": 68,
   "metadata": {},
   "outputs": [],
   "source": [
    "# 출발, 도착 정류소의 위치 좌표가 있는지 True, False 값으로 반환\n",
    "start_2 = np.isin(data_2[:, 1], station_array)\n",
    "end_2 = np.isin(data_2[:, 3], station_array)\n",
    "start_3 = np.isin(data_3[:, 1], station_array)\n",
    "end_3 = np.isin(data_3[:, 3], station_array)\n",
    "start_4 = np.isin(data_4[:, 1], station_array)\n",
    "end_4 = np.isin(data_4[:, 3], station_array)\n",
    "start_5 = np.isin(data_5[:, 1], station_array)\n",
    "end_5 = np.isin(data_5[:, 3], station_array)\n",
    "start_6 = np.isin(data_6[:, 1], station_array)\n",
    "end_6 = np.isin(data_6[:, 3], station_array)\n",
    "\n",
    "# 출발, 도착 정류소 모두 있는 경우 1 반환\n",
    "real_2 = start_2 * end_2\n",
    "real_3 = start_3 * end_3\n",
    "real_4 = start_4 * end_4\n",
    "real_5 = start_5 * end_5\n",
    "real_6 = start_6 * end_6\n",
    "\n",
    "# 필요없는 데이터 index\n",
    "index_f_2 = np.where(real_2 == 0)[0]\n",
    "index_f_3 = np.where(real_3 == 0)[0]\n",
    "index_f_4 = np.where(real_4 == 0)[0]\n",
    "index_f_5 = np.where(real_5 == 0)[0]\n",
    "index_f_6 = np.where(real_6 == 0)[0]\n",
    "\n",
    "# 필요없는 데이터 삭제한 데이터\n",
    "real_station_2 = np.delete(data_2, index_f_2, 0)\n",
    "real_station_3 = np.delete(data_3, index_f_3, 0)\n",
    "real_station_4 = np.delete(data_4, index_f_4, 0)\n",
    "real_station_5 = np.delete(data_5, index_f_5, 0)\n",
    "real_station_6 = np.delete(data_6, index_f_6, 0)"
   ]
  },
  {
   "cell_type": "markdown",
   "metadata": {},
   "source": [
    "# 날짜, 시간으로 데이터 나누기"
   ]
  },
  {
   "cell_type": "code",
   "execution_count": 11,
   "metadata": {},
   "outputs": [],
   "source": [
    "# 따릉이 데이터\n",
    "data_2 = np.load('../raw_data/data_2.npy', allow_pickle = True)\n",
    "data_3 = np.load('../raw_data/data_3.npy', allow_pickle = True)\n",
    "data_4 = np.load('../raw_data/data_4.npy', allow_pickle = True)\n",
    "data_5 = np.load('../raw_data/data_5.npy', allow_pickle = True)\n",
    "data_6 = np.load('../raw_data/data_6.npy', allow_pickle = True)\n",
    "\n",
    "# 주말 체크 (0~4: 평일(0), 5~6: 주말(1))\n",
    "def is_weekend(x):\n",
    "    if x>4:\n",
    "        return 0\n",
    "    else:\n",
    "        return 1"
   ]
  },
  {
   "cell_type": "code",
   "execution_count": 16,
   "metadata": {},
   "outputs": [],
   "source": [
    "# 주말, 평일 데이터 나누기\n",
    "weekday_list = []\n",
    "weekend_list = []\n",
    "\n",
    "for i in data_6:\n",
    "    if is_weekend(datetime.strptime(i[0][:10], '%Y-%m-%d').weekday()) == True:\n",
    "        weekday_list.append(i)\n",
    "    else:\n",
    "        weekend_list.append(i)\n",
    "\n",
    "weekday_list = np.array(weekday_list)\n",
    "weekend_list = np.array(weekend_list)"
   ]
  },
  {
   "cell_type": "code",
   "execution_count": 19,
   "metadata": {},
   "outputs": [],
   "source": [
    "# 평일 따릉이\n",
    "data_2 = np.load('../raw_data/data_2_weekday.npy', allow_pickle = True)\n",
    "data_3 = np.load('../raw_data/data_3_weekday.npy', allow_pickle = True)\n",
    "data_4 = np.load('../raw_data/data_4_weekday.npy', allow_pickle = True)\n",
    "data_5 = np.load('../raw_data/data_5_weekday.npy', allow_pickle = True)\n",
    "data_6 = np.load('../raw_data/data_6_weekday.npy', allow_pickle = True)\n",
    "\n",
    "# 출퇴근 시간 함수 (시간은 임의로 3시간 정함)\n",
    "def gotowork(x):\n",
    "    if x == 7 or x == 8 or x == 9:\n",
    "        return 1\n",
    "    elif x == 17 or x == 18 or x == 19:\n",
    "        return 2"
   ]
  },
  {
   "cell_type": "code",
   "execution_count": 36,
   "metadata": {},
   "outputs": [],
   "source": [
    "'''\n",
    "출근, 퇴근 데이터 나누기\n",
    "출근:7~10시\n",
    "퇴근:17~20시\n",
    "'''\n",
    "on_list = []\n",
    "off_list = []\n",
    "\n",
    "for i in data_6:\n",
    "    if gotowork(datetime.strptime(i[0][11:], '%H:%M:%S').hour) == 1:\n",
    "        on_list.append(i)\n",
    "    elif gotowork(datetime.strptime(i[0][11:], '%H:%M:%S').hour) == 2:\n",
    "        off_list.append(i)\n",
    "\n",
    "on_list = np.array(on_list)\n",
    "off_list = np.array(off_list)"
   ]
  }
 ],
 "metadata": {
  "interpreter": {
   "hash": "014b59808cf445a1f31851fb1408afebf516839740d067f1702e83d3b9167d10"
  },
  "kernelspec": {
   "display_name": "Python 3.8.3 64-bit ('base': conda)",
   "name": "python3"
  },
  "language_info": {
   "codemirror_mode": {
    "name": "ipython",
    "version": 3
   },
   "file_extension": ".py",
   "mimetype": "text/x-python",
   "name": "python",
   "nbconvert_exporter": "python",
   "pygments_lexer": "ipython3",
   "version": "3.8.3"
  },
  "orig_nbformat": 4
 },
 "nbformat": 4,
 "nbformat_minor": 2
}
