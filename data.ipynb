{
 "cells": [
  {
   "cell_type": "code",
   "execution_count": 29,
   "source": [
    "import pandas as pd\r\n",
    "import numpy as np\r\n",
    "from tqdm import tqdm\r\n",
    "from datetime import datetime"
   ],
   "outputs": [],
   "metadata": {}
  },
  {
   "cell_type": "code",
   "execution_count": 48,
   "source": [
    "# station data load\r\n",
    "station = pd.read_csv('../data/station(21.01.31).csv')\r\n",
    "\r\n",
    "# 계산용 numpy array\r\n",
    "station_array = np.array(station.iloc[:, 0])\r\n",
    "\r\n",
    "# use data load\r\n",
    "data_2 = pd.read_csv('../raw_data/2021.02.csv', sep = ',', encoding = 'cp949')\r\n",
    "data_3 = pd.read_csv('../raw_data/2021.03.csv', sep = ',', encoding = 'cp949')\r\n",
    "data_4 = pd.read_csv('../raw_data/2021.04.csv', sep = ',', encoding = 'cp949')\r\n",
    "data_5 = pd.read_csv('../raw_data/2021.05.csv', sep = ',', encoding = 'cp949')\r\n",
    "data_6 = pd.read_csv('../raw_data/2021.06.csv', sep = ',', encoding = 'cp949')"
   ],
   "outputs": [
    {
     "output_type": "stream",
     "name": "stderr",
     "text": [
      "C:\\Users\\LEE\\anaconda3\\lib\\site-packages\\IPython\\core\\interactiveshell.py:3071: DtypeWarning: Columns (4,6) have mixed types.Specify dtype option on import or set low_memory=False.\n",
      "  has_raised = await self.run_ast_nodes(code_ast.body, cell_name,\n"
     ]
    }
   ],
   "metadata": {}
  },
  {
   "cell_type": "code",
   "execution_count": 49,
   "source": [
    "# 필요없는 데이터 제거\r\n",
    "data_2 = data_2.drop(columns=['자전거번호', '대여 대여소명', '대여거치대',\r\n",
    "                    '반납대여소명', '반납거치대'], axis=1)\r\n",
    "data_3 = data_3.drop(columns=['자전거번호', '대여 대여소명', '대여거치대',\r\n",
    "                    '반납대여소명', '반납거치대'], axis=1)\r\n",
    "data_4 = data_4.drop(columns=['자전거번호', '대여 대여소명', '대여거치대',\r\n",
    "                    '반납대여소명', '반납거치대'], axis=1)\r\n",
    "data_5 = data_5.drop(columns=['자전거번호', '대여 대여소명', '대여거치대',\r\n",
    "                    '반납대여소명', '반납거치대'], axis=1)\r\n",
    "data_6 = data_6.drop(columns=['자전거번호', '대여 대여소명', '대여거치대',\r\n",
    "                    '반납대여소명', '반납거치대'], axis=1)"
   ],
   "outputs": [],
   "metadata": {}
  },
  {
   "cell_type": "code",
   "execution_count": 50,
   "source": [
    "# datafram to numpy array\r\n",
    "data_2 = data_2.to_numpy()\r\n",
    "data_3 = data_3.to_numpy()\r\n",
    "data_4 = data_4.to_numpy()\r\n",
    "data_5 = data_5.to_numpy()\r\n",
    "data_6 = data_6.to_numpy()"
   ],
   "outputs": [],
   "metadata": {}
  },
  {
   "cell_type": "code",
   "execution_count": 54,
   "source": [
    "# 출발, 도착 정류소의 위치 좌표가 있는지 True, False 값으로 반환\r\n",
    "start_2 = np.isin(data_2[:, 1], station_array)\r\n",
    "end_2 = np.isin(data_2[:, 3], station_array)\r\n",
    "start_3 = np.isin(data_3[:, 1], station_array)\r\n",
    "end_3 = np.isin(data_3[:, 3], station_array)\r\n",
    "start_4 = np.isin(data_4[:, 1], station_array)\r\n",
    "end_4 = np.isin(data_4[:, 3], station_array)\r\n",
    "start_5 = np.isin(data_5[:, 1], station_array)\r\n",
    "end_5 = np.isin(data_5[:, 3], station_array)\r\n",
    "start_6 = np.isin(data_6[:, 1], station_array)\r\n",
    "end_6 = np.isin(data_6[:, 3], station_array)\r\n",
    "\r\n",
    "# 출발, 도착 정류소 모두 있는 경우 1 반환\r\n",
    "real_2 = start_2 * end_2\r\n",
    "real_3 = start_3 * end_3\r\n",
    "real_4 = start_4 * end_4\r\n",
    "real_5 = start_5 * end_5\r\n",
    "real_6 = start_6 * end_6\r\n",
    "\r\n",
    "# 필요없는 데이터 index\r\n",
    "index_f_2 = np.where(real_2 == 0)[0]\r\n",
    "index_f_3 = np.where(real_3 == 0)[0]\r\n",
    "index_f_4 = np.where(real_4 == 0)[0]\r\n",
    "index_f_5 = np.where(real_5 == 0)[0]\r\n",
    "index_f_6 = np.where(real_6 == 0)[0]\r\n",
    "\r\n",
    "# 필요없는 데이터 삭제한 데이터\r\n",
    "real_station_2 = np.delete(data_2, index_f_2, 0)\r\n",
    "real_station_3 = np.delete(data_3, index_f_3, 0)\r\n",
    "real_station_4 = np.delete(data_4, index_f_4, 0)\r\n",
    "real_station_5 = np.delete(data_5, index_f_5, 0)\r\n",
    "real_station_6 = np.delete(data_6, index_f_6, 0)"
   ],
   "outputs": [],
   "metadata": {}
  }
 ],
 "metadata": {
  "orig_nbformat": 4,
  "language_info": {
   "name": "python",
   "version": "3.8.3",
   "mimetype": "text/x-python",
   "codemirror_mode": {
    "name": "ipython",
    "version": 3
   },
   "pygments_lexer": "ipython3",
   "nbconvert_exporter": "python",
   "file_extension": ".py"
  },
  "kernelspec": {
   "name": "python3",
   "display_name": "Python 3.8.3 64-bit ('base': conda)"
  },
  "interpreter": {
   "hash": "014b59808cf445a1f31851fb1408afebf516839740d067f1702e83d3b9167d10"
  }
 },
 "nbformat": 4,
 "nbformat_minor": 2
}